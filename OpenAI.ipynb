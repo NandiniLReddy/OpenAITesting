{
  "cells": [
    {
      "cell_type": "code",
      "execution_count": 5,
      "metadata": {
        "colab": {
          "base_uri": "https://localhost:8080/"
        },
        "id": "usfLOcsdGdDO",
        "outputId": "422a484c-77cb-4a53-91fb-aa19b8d29f32"
      },
      "outputs": [
        {
          "name": "stdout",
          "output_type": "stream",
          "text": [
            "Collecting openai\n",
            "  Downloading openai-1.30.5-py3-none-any.whl (320 kB)\n",
            "\u001b[2K     \u001b[90m━━━━━━━━━━━━━━━━━━━━━━━━━━━━━━━━━━━━━━━━\u001b[0m \u001b[32m320.7/320.7 kB\u001b[0m \u001b[31m5.3 MB/s\u001b[0m eta \u001b[36m0:00:00\u001b[0m\n",
            "\u001b[?25hRequirement already satisfied: anyio<5,>=3.5.0 in /usr/local/lib/python3.10/dist-packages (from openai) (3.7.1)\n",
            "Requirement already satisfied: distro<2,>=1.7.0 in /usr/lib/python3/dist-packages (from openai) (1.7.0)\n",
            "Collecting httpx<1,>=0.23.0 (from openai)\n",
            "  Downloading httpx-0.27.0-py3-none-any.whl (75 kB)\n",
            "\u001b[2K     \u001b[90m━━━━━━━━━━━━━━━━━━━━━━━━━━━━━━━━━━━━━━━━\u001b[0m \u001b[32m75.6/75.6 kB\u001b[0m \u001b[31m4.9 MB/s\u001b[0m eta \u001b[36m0:00:00\u001b[0m\n",
            "\u001b[?25hRequirement already satisfied: pydantic<3,>=1.9.0 in /usr/local/lib/python3.10/dist-packages (from openai) (2.7.2)\n",
            "Requirement already satisfied: sniffio in /usr/local/lib/python3.10/dist-packages (from openai) (1.3.1)\n",
            "Requirement already satisfied: tqdm>4 in /usr/local/lib/python3.10/dist-packages (from openai) (4.66.4)\n",
            "Requirement already satisfied: typing-extensions<5,>=4.7 in /usr/local/lib/python3.10/dist-packages (from openai) (4.12.0)\n",
            "Requirement already satisfied: idna>=2.8 in /usr/local/lib/python3.10/dist-packages (from anyio<5,>=3.5.0->openai) (3.7)\n",
            "Requirement already satisfied: exceptiongroup in /usr/local/lib/python3.10/dist-packages (from anyio<5,>=3.5.0->openai) (1.2.1)\n",
            "Requirement already satisfied: certifi in /usr/local/lib/python3.10/dist-packages (from httpx<1,>=0.23.0->openai) (2024.2.2)\n",
            "Collecting httpcore==1.* (from httpx<1,>=0.23.0->openai)\n",
            "  Downloading httpcore-1.0.5-py3-none-any.whl (77 kB)\n",
            "\u001b[2K     \u001b[90m━━━━━━━━━━━━━━━━━━━━━━━━━━━━━━━━━━━━━━━━\u001b[0m \u001b[32m77.9/77.9 kB\u001b[0m \u001b[31m4.9 MB/s\u001b[0m eta \u001b[36m0:00:00\u001b[0m\n",
            "\u001b[?25hCollecting h11<0.15,>=0.13 (from httpcore==1.*->httpx<1,>=0.23.0->openai)\n",
            "  Downloading h11-0.14.0-py3-none-any.whl (58 kB)\n",
            "\u001b[2K     \u001b[90m━━━━━━━━━━━━━━━━━━━━━━━━━━━━━━━━━━━━━━━━\u001b[0m \u001b[32m58.3/58.3 kB\u001b[0m \u001b[31m7.0 MB/s\u001b[0m eta \u001b[36m0:00:00\u001b[0m\n",
            "\u001b[?25hRequirement already satisfied: annotated-types>=0.4.0 in /usr/local/lib/python3.10/dist-packages (from pydantic<3,>=1.9.0->openai) (0.7.0)\n",
            "Requirement already satisfied: pydantic-core==2.18.3 in /usr/local/lib/python3.10/dist-packages (from pydantic<3,>=1.9.0->openai) (2.18.3)\n",
            "Installing collected packages: h11, httpcore, httpx, openai\n",
            "Successfully installed h11-0.14.0 httpcore-1.0.5 httpx-0.27.0 openai-1.30.5\n"
          ]
        }
      ],
      "source": [
        "!pip install openai"
      ]
    },
    {
      "cell_type": "code",
      "execution_count": 15,
      "metadata": {
        "colab": {
          "base_uri": "https://localhost:8080/",
          "height": 437
        },
        "id": "-yJY-cn7X2Pv",
        "outputId": "a8fbe62f-bbe6-447b-90f2-d92e795b9b23"
      },
      "outputs": [
        {
          "data": {
            "image/png": "[encoded data removed]",
            "text/plain": [
              "<IPython.core.display.Image object>"
            ]
          },
          "execution_count": 15,
          "metadata": {},
          "output_type": "execute_result"
        }
      ],
      "source": [
        "path_img = '/content/Bargraph.png'\n",
        "from IPython.display import Image\n",
        "Image(path_img)"
      ]
    },
    {
      "cell_type": "code",
      "execution_count": null,
      "metadata": {
        "id": "0gTmjSdbZVEn"
      },
      "outputs": [],
      "source": [
        "import io\n",
        "import base64\n",
        "from PIL import Image\n",
        "from openai import OpenAI"
      ]
    },
    {
      "cell_type": "code",
      "execution_count": 29,
      "metadata": {
        "id": "sdpaxyc-olHc"
      },
      "outputs": [],
      "source": [
        "# Image to a base64 encoded string\n",
        "def convert_image_to_base64(image_path, quality=75, max_size=(1024, 1024)):\n",
        "    image = Image.open(image_path)\n",
        "    # Resize the image if it exceeds the maximum size\n",
        "    if image.size[0] > max_size[0] or image.size[1] > max_size[1]:\n",
        "        image.thumbnail(max_size, Image.Resampling.LANCZOS)\n",
        "    image_data = io.BytesIO()\n",
        "    image.save(image_data, format='PNG', optimize=True)\n",
        "    image_data.seek(0)\n",
        "    base64_encoded = base64.b64encode(image_data.getvalue()).decode('utf-8')\n",
        "    return base64_encoded"
      ]
    },
    {
      "cell_type": "code",
      "execution_count": 30,
      "metadata": {
        "id": "4D506tNuouPB"
      },
      "outputs": [],
      "source": [
        "path_img = \"/content/Bargraph.png\"\n",
        "encoded_image = convert_image_to_base64(path_img)\n",
        "content = [{\"type\": \"image_url\", \"image_url\": {\"url\": f\"data:image/png;base64,{encoded_image}\"}}]"
      ]
    },
    {
      "cell_type": "code",
      "execution_count": 31,
      "metadata": {
        "id": "QALGVnr5oxBd"
      },
      "outputs": [],
      "source": [
        "# OpenAI API call\n",
        "OPENAI_API_KEY = \"ABCDEFGH\"\n",
        "client_openai = OpenAI(api_key=OPENAI_API_KEY)\n",
        "MODEL_NAME_GPT = \"gpt-4o\""
      ]
    },
    {
      "cell_type": "code",
      "execution_count": 60,
      "metadata": {
        "id": "xH4dtNGVoytN"
      },
      "outputs": [],
      "source": [
        "def get_completion_gpt4(messages, model_name):\n",
        "    response = client_openai.chat.completions.create(\n",
        "        model=model_name,\n",
        "        temperature=0,\n",
        "        messages=messages\n",
        "    )\n",
        "    return response.choices[0].message.content"
      ]
    },
    {
      "cell_type": "code",
      "execution_count": 61,
      "metadata": {
        "id": "9a7VOqnlo0Rx"
      },
      "outputs": [],
      "source": [
        "def append_message(content, question):\n",
        "    messages = [\n",
        "        {\n",
        "            \"role\": 'user',\n",
        "            \"content\": content\n",
        "        },\n",
        "        {\n",
        "            \"role\": 'system',\n",
        "            \"content\": question\n",
        "        }\n",
        "    ]\n",
        "    return messages"
      ]
    },
    {
      "cell_type": "code",
      "execution_count": 34,
      "metadata": {
        "id": "2dpkNYeSpB_l"
      },
      "outputs": [],
      "source": [
        "# Create the message content\n",
        "question = \"Summarise the given graph ?\"\n",
        "messages = append_message(content, question)"
      ]
    },
    {
      "cell_type": "code",
      "execution_count": 35,
      "metadata": {
        "colab": {
          "base_uri": "https://localhost:8080/"
        },
        "id": "oNjUABw-pDMb",
        "outputId": "f21737ba-f738-44e7-e87f-e13ccc703e1a"
      },
      "outputs": [
        {
          "name": "stdout",
          "output_type": "stream",
          "text": [
            "The graph displays the average high and low temperatures (in degrees Fahrenheit) for the months of January through May. The data is represented using a bar chart with two bars for each month: one for the average high temperature and one for the average low temperature.\n",
            "\n",
            "Key observations:\n",
            "- January: Average high is around 35°F, and average low is around 20°F.\n",
            "- February: Average high is around 40°F, and average low is around 25°F.\n",
            "- March: Average high is around 50°F, and average low is around 30°F.\n",
            "- April: Average high is around 60°F, and average low is around 40°F.\n",
            "- May: Average high is around 70°F, and average low is around 50°F.\n",
            "\n",
            "Overall, both the average high and low temperatures increase steadily from January to May.\n"
          ]
        }
      ],
      "source": [
        "# Get the completion\n",
        "try:\n",
        "    print(get_completion_gpt4(messages, MODEL_NAME_GPT))\n",
        "except Exception as e:\n",
        "    print(f\"An error occurred: {e}\")"
      ]
    },
    {
      "cell_type": "markdown",
      "metadata": {
        "id": "mqZtfzLUqMVJ"
      },
      "source": [
        "#with other model"
      ]
    },
    {
      "cell_type": "code",
      "execution_count": 36,
      "metadata": {
        "colab": {
          "base_uri": "https://localhost:8080/"
        },
        "id": "6gRZDxxmlMU5",
        "outputId": "a6122e72-5881-46e0-f370-2887eac5b670"
      },
      "outputs": [
        {
          "name": "stdout",
          "output_type": "stream",
          "text": [
            "CPU times: user 4 µs, sys: 0 ns, total: 4 µs\n",
            "Wall time: 7.87 µs\n"
          ]
        }
      ],
      "source": [
        "%%time\n",
        "MODEL_NAME_GPT = \"gpt-4-turbo\"\n"
      ]
    },
    {
      "cell_type": "code",
      "execution_count": 37,
      "metadata": {
        "id": "F2eWuFcUqWGd"
      },
      "outputs": [],
      "source": [
        "question = \"Summarise the given graph?\"\n",
        "messages = append_message(content, question)"
      ]
    },
    {
      "cell_type": "code",
      "execution_count": 38,
      "metadata": {
        "colab": {
          "base_uri": "https://localhost:8080/"
        },
        "id": "WVVmEfenqXgd",
        "outputId": "45330c5d-cc25-4e60-b448-e7dca7d77c9b"
      },
      "outputs": [
        {
          "name": "stdout",
          "output_type": "stream",
          "text": [
            "The graph displays the average high and average low temperatures (in degrees Fahrenheit) for the months of January through May. The temperatures are represented by two different colors: blue for the average high and green for the average low. \n",
            "\n",
            "From the graph, it is evident that both the average high and low temperatures increase as the months progress from January to May. January has the lowest temperatures with the average high around 40°F and the average low around 20°F. By May, the average high reaches nearly 70°F and the average low is around 50°F. This trend indicates a warming pattern as the seasons transition from winter to spring.\n"
          ]
        }
      ],
      "source": [
        "try:\n",
        "    print(get_completion_gpt4(messages, MODEL_NAME_GPT))\n",
        "except Exception as e:\n",
        "    print(f\"An error occurred: {e}\")"
      ]
    },
    {
      "cell_type": "markdown",
      "metadata": {
        "id": "zLHANQ59qubQ"
      },
      "source": [
        "# will try complex question"
      ]
    },
    {
      "cell_type": "code",
      "execution_count": 39,
      "metadata": {
        "id": "CPs7KxZQqa1S"
      },
      "outputs": [],
      "source": [
        "path_img = \"/content/Complexgraph.png\"\n",
        "encoded_image = convert_image_to_base64(path_img)\n",
        "content = [{\"type\": \"image_url\", \"image_url\": {\"url\": f\"data:image/png;base64,{encoded_image}\"}}]"
      ]
    },
    {
      "cell_type": "code",
      "execution_count": 40,
      "metadata": {
        "colab": {
          "base_uri": "https://localhost:8080/"
        },
        "id": "Iay0xio9rZfd",
        "outputId": "9a5dcfc7-0476-45a6-bbf6-75178830adb9"
      },
      "outputs": [
        {
          "name": "stdout",
          "output_type": "stream",
          "text": [
            "CPU times: user 4 µs, sys: 0 ns, total: 4 µs\n",
            "Wall time: 8.58 µs\n"
          ]
        }
      ],
      "source": [
        "%%time\n",
        "MODEL_NAME_GPT = \"gpt-4o\""
      ]
    },
    {
      "cell_type": "code",
      "execution_count": 43,
      "metadata": {
        "id": "9E79CCbwrd__"
      },
      "outputs": [],
      "source": [
        "question = ''' Load the table and the chart data from the image and output it as a␣\n",
        "↪markdown format .\n",
        "Try your best to extract the accurate figures from the image.\n",
        "If you can't extract the chart data, please summarize the image and return␣\n",
        "↪the summary.? '''\n",
        "messages = append_message(content, question)"
      ]
    },
    {
      "cell_type": "code",
      "execution_count": 44,
      "metadata": {
        "colab": {
          "base_uri": "https://localhost:8080/"
        },
        "id": "PQ6A4Rdlregl",
        "outputId": "2655076a-c4bd-46ff-f780-0cbdf4be3ea5"
      },
      "outputs": [
        {
          "name": "stdout",
          "output_type": "stream",
          "text": [
            "The image is a radial bar chart that shows the distribution of various investment types across different regions: Europe, North America, Asia-Pacific, and Emerging Markets. The chart is divided into several categories of investments, including Equities, Bonds, Cash, Commodities, and Alternative Investments. Each category is further broken down into subcategories.\n",
            "\n",
            "Here is a summary of the data presented in the chart:\n",
            "\n",
            "### Investment Distribution by Region\n",
            "\n",
            "#### Equities\n",
            "- **Developed-market**\n",
            "  - Europe: 20%\n",
            "  - North America: 35%\n",
            "  - Asia-Pacific: 5%\n",
            "  - Emerging Markets: 5%\n",
            "- **Developing-market**\n",
            "  - Europe: 5%\n",
            "  - North America: 10%\n",
            "  - Asia-Pacific: 5%\n",
            "  - Emerging Markets: 20%\n",
            "\n",
            "#### Bonds\n",
            "- **Developed-market fixed income**\n",
            "  - Europe: 12%\n",
            "  - North America: 11%\n",
            "  - Asia-Pacific: 9%\n",
            "  - Emerging Markets: 21%\n",
            "- **Developing-market fixed income**\n",
            "  - Europe: 3%\n",
            "  - North America: 5%\n",
            "  - Asia-Pacific: 1%\n",
            "  - Emerging Markets: 9%\n",
            "\n",
            "#### Cash or Equivalent\n",
            "- Europe: 1%\n",
            "- North America: 3%\n",
            "- Asia-Pacific: 1%\n",
            "- Emerging Markets: 7%\n",
            "\n",
            "#### Commodities\n",
            "- **Commodities**\n",
            "  - Europe: 1%\n",
            "  - North America: 1%\n",
            "  - Asia-Pacific: 1%\n",
            "  - Emerging Markets: 1%\n",
            "- **Agriculture**\n",
            "  - Europe: 1%\n",
            "  - North America: 1%\n",
            "  - Asia-Pacific: 1%\n",
            "  - Emerging Markets: 1%\n",
            "- **Tangibles**\n",
            "  - Europe: 1%\n",
            "  - North America: 1%\n",
            "  - Asia-Pacific: 1%\n",
            "  - Emerging Markets: 1%\n",
            "\n",
            "#### Alternative Investments\n",
            "- **Direct venture capital/private equity**\n",
            "  - Europe: 10%\n",
            "  - North America: 25%\n",
            "  - Asia-Pacific: 5%\n",
            "  - Emerging Markets: 5%\n",
            "- **Private equity funds**\n",
            "  - Europe: 10%\n",
            "  - North America: 20%\n",
            "  - Asia-Pacific: 5%\n",
            "  - Emerging Markets: 5%\n",
            "- **Co-investing**\n",
            "  - Europe: 2%\n",
            "  - North America: 6%\n",
            "  - Asia-Pacific: 1%\n",
            "  - Emerging Markets: 1%\n",
            "- **Real estate direct investment**\n",
            "  - Europe: 10%\n",
            "  - North America: 20%\n",
            "  - Asia-Pacific: 5%\n",
            "  - Emerging Markets: 24%\n",
            "- **Hedge funds (includes all strategies)**\n",
            "  - Europe: 2%\n",
            "  - North America: 10%\n",
            "  - Asia-Pacific: 1%\n",
            "  - Emerging Markets: 1%\n",
            "- **Other assets**\n",
            "  - Europe: 1%\n",
            "  - North America: 1%\n",
            "  - Asia-Pacific: 1%\n",
            "  - Emerging Markets: 1%\n",
            "- **ETFs**\n",
            "  - Europe: 1%\n",
            "  - North America: 1%\n",
            "  - Asia-Pacific: 1%\n",
            "  - Emerging Markets: 1%\n",
            "- **REITs**\n",
            "  - Europe: 1%\n",
            "  - North America: 1%\n",
            "  - Asia-Pacific: 1%\n",
            "  - Emerging Markets: 1%\n",
            "\n",
            "### Legend\n",
            "- **Europe**: Blue\n",
            "- **North America**: Gray\n",
            "- **Asia-Pacific**: Black\n",
            "- **Emerging Markets**: Red\n",
            "\n",
            "This chart provides a visual representation of how different regions allocate their investments across various asset classes.\n"
          ]
        }
      ],
      "source": [
        "try:\n",
        "    print(get_completion_gpt4(messages, MODEL_NAME_GPT))\n",
        "except Exception as e:\n",
        "    print(f\"An error occurred: {e}\")"
      ]
    },
    {
      "cell_type": "markdown",
      "metadata": {
        "id": "6j1yrDO1son7"
      },
      "source": [
        "# will solve math question"
      ]
    },
    {
      "cell_type": "code",
      "execution_count": 50,
      "metadata": {
        "id": "FDO_g3DFsN3B"
      },
      "outputs": [],
      "source": [
        "path_img = \"/content/math.jpeg\"\n",
        "encoded_image = convert_image_to_base64(path_img)\n",
        "content = [{\"type\": \"image_url\", \"image_url\": {\"url\": f\"data:image/png;base64,{encoded_image}\"}}]"
      ]
    },
    {
      "cell_type": "code",
      "execution_count": 51,
      "metadata": {
        "id": "bbp7r8iTswkd"
      },
      "outputs": [],
      "source": [
        "question = '''Solve this maths question and provide the answer'''\n",
        "messages = append_message(content, question)"
      ]
    },
    {
      "cell_type": "code",
      "execution_count": 52,
      "metadata": {
        "colab": {
          "base_uri": "https://localhost:8080/"
        },
        "id": "2eyRh1kWs3je",
        "outputId": "fa5d86e0-d3a9-4455-9986-d3d47f194a88"
      },
      "outputs": [
        {
          "name": "stdout",
          "output_type": "stream",
          "text": [
            "To fully simplify the given expression at \\( x = 3 \\), we need to evaluate the expression step by step.\n",
            "\n",
            "The given expression is:\n",
            "\n",
            "\\[ \\frac{y}{x} = \\ln \\left[ \\sin^{-1} \\left( \\frac{1}{\\csc \\left( \\left( \\sqrt{x^2 + e^{\\frac{1}{3}}} \\right)^6 \\right)} \\right) - x^2 \\right] \\]\n",
            "\n",
            "First, let's simplify the inner part of the expression.\n",
            "\n",
            "1. Evaluate \\( x^2 \\) at \\( x = 3 \\):\n",
            "\\[ x^2 = 3^2 = 9 \\]\n",
            "\n",
            "2. Evaluate \\( e^{\\frac{1}{3}} \\):\n",
            "\\[ e^{\\frac{1}{3}} \\approx 1.3956 \\]\n",
            "\n",
            "3. Evaluate \\( x^2 + e^{\\frac{1}{3}} \\):\n",
            "\\[ x^2 + e^{\\frac{1}{3}} = 9 + 1.3956 = 10.3956 \\]\n",
            "\n",
            "4. Evaluate \\( \\sqrt{x^2 + e^{\\frac{1}{3}}} \\):\n",
            "\\[ \\sqrt{10.3956} \\approx 3.224 \\]\n",
            "\n",
            "5. Raise the result to the power of 6:\n",
            "\\[ (3.224)^6 \\approx 1077.217 \\]\n",
            "\n",
            "6. Evaluate the cosecant function:\n",
            "\\[ \\csc(1077.217) = \\frac{1}{\\sin(1077.217)} \\]\n",
            "\n",
            "Since \\( 1077.217 \\) is a large angle, we can reduce it modulo \\( 2\\pi \\):\n",
            "\\[ 1077.217 \\mod 2\\pi \\approx 1.217 \\]\n",
            "\n",
            "Now, evaluate \\( \\sin(1.217) \\):\n",
            "\\[ \\sin(1.217) \\approx 0.937 \\]\n",
            "\n",
            "Thus,\n",
            "\\[ \\csc(1077.217) \\approx \\frac{1}{0.937} \\approx 1.067 \\]\n",
            "\n",
            "7. Evaluate the inverse sine function:\n",
            "\\[ \\sin^{-1} \\left( \\frac{1}{1.067} \\right) = \\sin^{-1}(0.937) \\approx 1.217 \\]\n",
            "\n",
            "8. Subtract \\( x^2 \\):\n",
            "\\[ 1.217 - 9 = -7.783 \\]\n",
            "\n",
            "9. Finally, take the natural logarithm:\n",
            "\\[ \\ln(-7.783) \\]\n",
            "\n",
            "Since the natural logarithm of a negative number is undefined in the real number system, the expression is undefined at \\( x = 3 \\).\n"
          ]
        }
      ],
      "source": [
        "try:\n",
        "    print(get_completion_gpt4(messages, MODEL_NAME_GPT))\n",
        "except Exception as e:\n",
        "    print(f\"An error occurred: {e}\")"
      ]
    },
    {
      "cell_type": "markdown",
      "metadata": {
        "id": "JB0iSX_9tl07"
      },
      "source": [
        "# math question-2"
      ]
    },
    {
      "cell_type": "code",
      "execution_count": 58,
      "metadata": {
        "id": "GKsXEyfltn5p"
      },
      "outputs": [],
      "source": [
        "path_img = \"/content/math2.png\"\n",
        "encoded_image = convert_image_to_base64(path_img)\n",
        "content = [{\"type\": \"image_url\", \"image_url\": {\"url\": f\"data:image/png;base64,{encoded_image}\"}}]"
      ]
    },
    {
      "cell_type": "code",
      "execution_count": 56,
      "metadata": {
        "id": "OS8EHLGhtr7M"
      },
      "outputs": [],
      "source": [
        "question = '''Solve this math question and provide the answer'''\n",
        "messages = append_message(content, question)"
      ]
    },
    {
      "cell_type": "code",
      "execution_count": 57,
      "metadata": {
        "colab": {
          "base_uri": "https://localhost:8080/"
        },
        "id": "BNby0vEQttNE",
        "outputId": "f059ae2d-7495-44cd-a8b7-4b7f47e8d186"
      },
      "outputs": [
        {
          "name": "stdout",
          "output_type": "stream",
          "text": [
            "To solve the problem, we need to simplify the expression \\(\\frac{3^4}{3^2}\\).\n",
            "\n",
            "Using the properties of exponents, specifically the quotient rule \\( \\frac{a^m}{a^n} = a^{m-n} \\), we can simplify the expression as follows:\n",
            "\n",
            "\\[\n",
            "\\frac{3^4}{3^2} = 3^{4-2} = 3^2\n",
            "\\]\n",
            "\n",
            "Now, we calculate \\(3^2\\):\n",
            "\n",
            "\\[\n",
            "3^2 = 9\n",
            "\\]\n",
            "\n",
            "So, the number equivalent to \\(\\frac{3^4}{3^2}\\) is 9.\n",
            "\n",
            "Therefore, the correct answer is:\n",
            "\n",
            "B. 9\n"
          ]
        }
      ],
      "source": [
        "try:\n",
        "    print(get_completion_gpt4(messages, MODEL_NAME_GPT))\n",
        "except Exception as e:\n",
        "    print(f\"An error occurred: {e}\")"
      ]
    },
    {
      "cell_type": "markdown",
      "metadata": {
        "id": "Dsa-mxxquTNx"
      },
      "source": [
        "# nutrients"
      ]
    },
    {
      "cell_type": "code",
      "execution_count": 59,
      "metadata": {
        "id": "TlnQieMyuUNf"
      },
      "outputs": [],
      "source": [
        "path_img = \"/content/food.png\"\n",
        "encoded_image = convert_image_to_base64(path_img)\n",
        "content = [{\"type\": \"image_url\", \"image_url\": {\"url\": f\"data:image/png;base64,{encoded_image}\"}}]"
      ]
    },
    {
      "cell_type": "code",
      "execution_count": 62,
      "metadata": {
        "id": "8yEtRqr9uZ7I"
      },
      "outputs": [],
      "source": [
        "question = '''List all the nutrients in this picture with quantity'''\n",
        "messages = append_message(content, question)"
      ]
    },
    {
      "cell_type": "code",
      "execution_count": 63,
      "metadata": {
        "colab": {
          "base_uri": "https://localhost:8080/"
        },
        "id": "mZBWliTBufZ3",
        "outputId": "16400372-8952-4f9e-9f82-2baa5a993af2"
      },
      "outputs": [
        {
          "name": "stdout",
          "output_type": "stream",
          "text": [
            "I can't provide the exact nutrient quantities from just an image, but I can describe the general nutritional components of the foods shown in the picture. The plate appears to contain grilled fish, leafy greens (possibly Swiss chard), and boiled potatoes. Here are the general nutrients you might find in these foods:\n",
            "\n",
            "1. **Grilled Fish (e.g., Salmon, Halibut, or another type of fish)**\n",
            "   - **Protein**: High\n",
            "   - **Omega-3 Fatty Acids**: High (especially in fatty fish like salmon)\n",
            "   - **Vitamin D**: Moderate to high\n",
            "   - **Vitamin B12**: High\n",
            "   - **Selenium**: Moderate to high\n",
            "   - **Phosphorus**: Moderate to high\n",
            "\n",
            "2. **Leafy Greens (e.g., Swiss Chard)**\n",
            "   - **Vitamin K**: High\n",
            "   - **Vitamin A**: High\n",
            "   - **Vitamin C**: Moderate\n",
            "   - **Magnesium**: Moderate\n",
            "   - **Iron**: Moderate\n",
            "   - **Fiber**: Moderate\n",
            "\n",
            "3. **Boiled Potatoes**\n",
            "   - **Carbohydrates**: High\n",
            "   - **Vitamin C**: Moderate\n",
            "   - **Potassium**: High\n",
            "   - **Vitamin B6**: Moderate\n",
            "   - **Fiber**: Moderate (especially if the skin is eaten)\n",
            "\n",
            "For precise nutrient quantities, you would need to refer to a nutritional database or use a food scale and nutritional software to analyze the specific amounts of each food item.\n"
          ]
        }
      ],
      "source": [
        "try:\n",
        "    print(get_completion_gpt4(messages, MODEL_NAME_GPT))\n",
        "except Exception as e:\n",
        "    print(f\"An error occurred: {e}\")"
      ]
    }
  ],
  "metadata": {
    "colab": {
      "provenance": []
    },
    "kernelspec": {
      "display_name": "Python 3",
      "name": "python3"
    },
    "language_info": {
      "name": "python"
    }
  },
  "nbformat": 4,
  "nbformat_minor": 0
}
